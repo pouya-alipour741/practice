{
 "cells": [
  {
   "cell_type": "code",
   "execution_count": 3,
   "id": "30c95672",
   "metadata": {},
   "outputs": [],
   "source": [
    "from torchtext.datasets import Multi30k"
   ]
  }
 ],
 "metadata": {
  "kernelspec": {
   "display_name": "ML",
   "language": "python",
   "name": "ml"
  },
  "language_info": {
   "codemirror_mode": {
    "name": "ipython",
    "version": 3
   },
   "file_extension": ".py",
   "mimetype": "text/x-python",
   "name": "python",
   "nbconvert_exporter": "python",
   "pygments_lexer": "ipython3",
   "version": "3.10.6"
  }
 },
 "nbformat": 4,
 "nbformat_minor": 5
}
