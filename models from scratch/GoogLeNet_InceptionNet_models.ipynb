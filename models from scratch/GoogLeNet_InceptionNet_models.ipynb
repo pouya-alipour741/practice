{
 "cells": [
  {
   "cell_type": "code",
   "execution_count": 74,
   "id": "4a6f333b",
   "metadata": {},
   "outputs": [],
   "source": [
    "import torch\n",
    "from torch import nn"
   ]
  },
  {
   "cell_type": "code",
   "execution_count": 75,
   "id": "2281a12a",
   "metadata": {},
   "outputs": [
    {
     "data": {
      "text/plain": [
       "'cuda'"
      ]
     },
     "execution_count": 75,
     "metadata": {},
     "output_type": "execute_result"
    }
   ],
   "source": [
    "device = \"cuda\" if torch.cuda.is_available() else \"cpu\"\n",
    "device"
   ]
  },
  {
   "cell_type": "code",
   "execution_count": 76,
   "id": "1b06a871",
   "metadata": {},
   "outputs": [],
   "source": [
    "class GoogleNet(nn.Module):\n",
    "    def __init__(self, aux_logits=True, num_classes=1000):\n",
    "        super().__init__()\n",
    "        assert aux_logits == True or aux_logits == False\n",
    "        self.aux_logits = aux_logits\n",
    "        self.conv1 = conv_layer(3,\n",
    "                                64,\n",
    "                                kernel_size=7,\n",
    "                                stride=2,\n",
    "                                padding=3)\n",
    "        self.maxpool1 = nn.MaxPool2d(kernel_size=3, stride=2, padding=1) \n",
    "        self.conv2 = conv_layer(\n",
    "            64, 192, kernel_size=3, stride=1, padding=1\n",
    "            )\n",
    "        self.maxpool2 = nn.MaxPool2d(kernel_size=3, stride=2, padding=1)\n",
    "        #in_channels, out_1x1, reduced_3x3, out_3x3, reduced_5x5, out_5x5, out_1x1_pool\n",
    "        self.inception3a = Inception_Block(192, 64, 96, 128, 16, 32, 32)\n",
    "        self.inception3b = Inception_Block(256, 128, 128, 192, 32, 96, 64)\n",
    "        self.maxpool3 = nn.MaxPool2d(3, 2, 1)\n",
    "        \n",
    "        self.inception4a = Inception_Block(480, 192, 96, 208, 16, 48, 64)\n",
    "        self.inception4b = Inception_Block(512, 160, 112, 224, 24, 64, 64)\n",
    "        self.inception4c = Inception_Block(512, 128, 128, 256, 24, 64, 64)\n",
    "        self.inception4d = Inception_Block(512, 112, 144, 288, 32, 64, 64)\n",
    "        self.inception4e = Inception_Block(528, 256, 160, 320, 32, 128, 128)\n",
    "        self.maxpool4 = nn.MaxPool2d(3, 2, 1)\n",
    "        \n",
    "        self.inception5a = Inception_Block(832, 256, 160, 320, 32, 128, 128)\n",
    "        self.inception5b = Inception_Block(832, 384, 192, 384, 48, 128, 128)\n",
    "        \n",
    "        self.avgpool = nn.AvgPool2d(kernel_size=7, stride=1)\n",
    "        self.dropout = nn.Dropout(p=0.4)\n",
    "        self.fc = nn.Linear(1024, num_classes)\n",
    "        \n",
    "        if self.aux_logits:\n",
    "            self.aux1 = Inception_Aux(512, num_classes)\n",
    "            self.aux2 = Inception_Aux(528, num_classes)\n",
    "        else:\n",
    "            self.aux1 = self.aux2 = None\n",
    "        \n",
    "        \n",
    "    def forward(self, x):\n",
    "        x = self.conv1(x)\n",
    "        x = self.maxpool1(x)\n",
    "        x = self.conv2(x)\n",
    "        x = self.maxpool2(x)\n",
    "        \n",
    "        x = self.inception3a(x)\n",
    "        x = self.inception3b(x)\n",
    "        x = self.maxpool3(x)\n",
    "        \n",
    "        x = self.inception4a(x)\n",
    "        \n",
    "        if self.aux_logits == True and self.training:\n",
    "            aux1 = self.aux1(x)\n",
    "            \n",
    "        \n",
    "        x = self.inception4b(x)\n",
    "        x = self.inception4c(x)\n",
    "        x = self.inception4d(x)\n",
    "        \n",
    "        if self.aux_logits == True and self.training:\n",
    "            aux2 = self.aux2(x)\n",
    "        \n",
    "        x = self.inception4e(x)        \n",
    "        x = self.maxpool4(x)\n",
    "        \n",
    "        x = self.inception5a(x)\n",
    "        x = self.inception5b(x)\n",
    "        x = self.avgpool(x)\n",
    "        \n",
    "        x = x.reshape(x.shape[0], -1)\n",
    "        \n",
    "        x = self.dropout(x)\n",
    "        x = self.fc(x)\n",
    "        \n",
    "        if self.aux_logits and self.training:\n",
    "            return aux1, aux2, x\n",
    "        else:\n",
    "            return x "
   ]
  },
  {
   "cell_type": "code",
   "execution_count": 77,
   "id": "09b267c7",
   "metadata": {},
   "outputs": [],
   "source": [
    "class Inception_Block(nn.Module):\n",
    "    def __init__(self, in_channels, out_1x1, reduced_3x3, out_3x3, reduced_5x5, out_5x5, out_1x1_pool):\n",
    "        super().__init__()\n",
    "        self.branch1 = conv_layer(in_channels, out_1x1, kernel_size=1)\n",
    "        self.branch2 = nn.Sequential(\n",
    "            conv_layer(in_channels, reduced_3x3, kernel_size=1),\n",
    "            conv_layer(reduced_3x3, out_3x3, kernel_size=3, padding=1)                                     \n",
    "                                    )\n",
    "        self.branch3 = nn.Sequential(\n",
    "            conv_layer(in_channels, reduced_5x5, kernel_size=1),\n",
    "            conv_layer(reduced_5x5, out_5x5, kernel_size=5, padding=2)\n",
    "            )\n",
    "        self.branch4 = nn.Sequential(\n",
    "            nn.MaxPool2d(kernel_size=3, stride=1, padding=1),\n",
    "            conv_layer(in_channels, out_1x1_pool, kernel_size=1)    \n",
    "        )\n",
    "        \n",
    "    def forward(self, x):\n",
    "        #B C W H\n",
    "        x = torch.cat([self.branch1(x), self.branch2(x), self.branch3(x), self.branch4(x)], dim=1)\n",
    "        return x"
   ]
  },
  {
   "cell_type": "code",
   "execution_count": 78,
   "id": "991fd6e9",
   "metadata": {},
   "outputs": [],
   "source": [
    "class Inception_Aux(nn.Module):\n",
    "    def __init__(self, in_channels, num_classes):\n",
    "        super().__init__()\n",
    "        self.relu = nn.ReLU()\n",
    "        self.dropout = nn.Dropout(p=0.7)\n",
    "        self.avgpool = nn.AvgPool2d(kernel_size=5, stride=3)\n",
    "        self.conv = conv_layer(in_channels, 128, kernel_size=1)\n",
    "        self.fc1 = nn.Linear(2048, 1024)\n",
    "        self.fc2 = nn.Linear(1024, num_classes)\n",
    "        \n",
    "    def forward(self, x):\n",
    "        x = self.avgpool(x)\n",
    "        x = self.conv(x)\n",
    "        x = x.reshape(x.shape[0], -1)\n",
    "        x = self.relu(self.fc1(x))\n",
    "        x = self.dropout(x)\n",
    "        x = self.fc2(x)        \n",
    "        return x\n",
    "        \n",
    "        "
   ]
  },
  {
   "cell_type": "code",
   "execution_count": 79,
   "id": "d5930fe0",
   "metadata": {},
   "outputs": [],
   "source": [
    "class conv_layer(nn.Module):\n",
    "    def __init__(self, in_features, out_features, **kwargs):\n",
    "        super().__init__()\n",
    "        self.relu = nn.ReLU()\n",
    "        self.conv = nn.Conv2d(in_features,out_features, **kwargs)\n",
    "        self.batch_norm = nn.BatchNorm2d(out_features)\n",
    "        \n",
    "    def forward(self, x):\n",
    "        return self.relu(self.batch_norm(self.conv(x))) "
   ]
  },
  {
   "cell_type": "code",
   "execution_count": null,
   "id": "628f3034",
   "metadata": {},
   "outputs": [],
   "source": []
  },
  {
   "cell_type": "code",
   "execution_count": 85,
   "id": "b49a833a",
   "metadata": {},
   "outputs": [
    {
     "name": "stdout",
     "output_type": "stream",
     "text": [
      "torch.Size([11, 1000])\n"
     ]
    }
   ],
   "source": [
    "if __name__ == \"__main__\":\n",
    "    x = torch.randn(11,3,224,224).to(device)\n",
    "    model = GoogleNet().to(device)\n",
    "    print(model(x)[0].shape)"
   ]
  },
  {
   "cell_type": "code",
   "execution_count": null,
   "id": "1ae40dd0",
   "metadata": {},
   "outputs": [],
   "source": []
  }
 ],
 "metadata": {
  "kernelspec": {
   "display_name": "ML",
   "language": "python",
   "name": "ml"
  },
  "language_info": {
   "codemirror_mode": {
    "name": "ipython",
    "version": 3
   },
   "file_extension": ".py",
   "mimetype": "text/x-python",
   "name": "python",
   "nbconvert_exporter": "python",
   "pygments_lexer": "ipython3",
   "version": "3.10.6"
  }
 },
 "nbformat": 4,
 "nbformat_minor": 5
}
