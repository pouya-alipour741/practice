{
 "cells": [
  {
   "cell_type": "code",
   "execution_count": 1,
   "id": "3d39f629",
   "metadata": {},
   "outputs": [],
   "source": [
    "import torch\n",
    "import torchtext\n",
    "from torchtext.datasets import IMDB\n",
    "from collections import Counter\n",
    "from torchtext.vocab import vocab\n",
    "from torchtext.data.utils import get_tokenizer\n",
    "from torch.nn.utils.rnn import pad_sequence\n",
    "from torch.utils.data import DataLoader\n",
    "import random"
   ]
  },
  {
   "cell_type": "code",
   "execution_count": 2,
   "id": "f81f957b",
   "metadata": {},
   "outputs": [
    {
     "data": {
      "text/plain": [
       "(1,\n",
       " 'I rented I AM CURIOUS-YELLOW from my video store because of all the controversy that surrounded it when it was first released in 1967. I also heard that at first it was seized by U.S. customs if it ever tried to enter this country, therefore being a fan of films considered \"controversial\" I really had to see this for myself.<br /><br />The plot is centered around a young Swedish drama student named Lena who wants to learn everything she can about life. In particular she wants to focus her attentions to making some sort of documentary on what the average Swede thought about certain political issues such as the Vietnam War and race issues in the United States. In between asking politicians and ordinary denizens of Stockholm about their opinions on politics, she has sex with her drama teacher, classmates, and married men.<br /><br />What kills me about I AM CURIOUS-YELLOW is that 40 years ago, this was considered pornographic. Really, the sex and nudity scenes are few and far between, even then it\\'s not shot like some cheaply made porno. While my countrymen mind find it shocking, in reality sex and nudity are a major staple in Swedish cinema. Even Ingmar Bergman, arguably their answer to good old boy John Ford, had sex scenes in his films.<br /><br />I do commend the filmmakers for the fact that any sex shown in the film is shown for artistic purposes rather than just to shock people and make money to be shown in pornographic theaters in America. I AM CURIOUS-YELLOW is a good film for anyone wanting to study the meat and potatoes (no pun intended) of Swedish cinema. But really, this film doesn\\'t have much of a plot.')"
      ]
     },
     "execution_count": 2,
     "metadata": {},
     "output_type": "execute_result"
    }
   ],
   "source": [
    "train_iter, test_iter = IMDB(split=('train', 'test'))\n",
    "next(iter(train_iter))"
   ]
  },
  {
   "cell_type": "code",
   "execution_count": 3,
   "id": "595c3451",
   "metadata": {},
   "outputs": [
    {
     "data": {
      "text/plain": [
       "(12500, 12500)"
      ]
     },
     "execution_count": 3,
     "metadata": {},
     "output_type": "execute_result"
    }
   ],
   "source": [
    "len(list(train_iter)), len(list(test_iter))"
   ]
  },
  {
   "cell_type": "code",
   "execution_count": 4,
   "id": "865dbab0",
   "metadata": {},
   "outputs": [
    {
     "data": {
      "text/plain": [
       "{1}"
      ]
     },
     "execution_count": 4,
     "metadata": {},
     "output_type": "execute_result"
    }
   ],
   "source": [
    "set([label for label, text in test_iter]) "
   ]
  },
  {
   "cell_type": "code",
   "execution_count": 5,
   "id": "3d69100c",
   "metadata": {},
   "outputs": [],
   "source": [
    "tokenizer = get_tokenizer(\"basic_english\")"
   ]
  },
  {
   "cell_type": "code",
   "execution_count": 6,
   "id": "8c1a6233",
   "metadata": {},
   "outputs": [],
   "source": [
    "counter = Counter()\n",
    "for label, line in train_iter:\n",
    "    counter.update(tokenizer(line))"
   ]
  },
  {
   "cell_type": "code",
   "execution_count": 7,
   "id": "a6fb3d1a",
   "metadata": {},
   "outputs": [],
   "source": [
    "imdb_vocab = vocab(counter, min_freq=2, specials=['<pad>', '<sos>', '<eos>', '<unk>'])"
   ]
  },
  {
   "cell_type": "code",
   "execution_count": 8,
   "id": "d812f920",
   "metadata": {},
   "outputs": [],
   "source": [
    "text_transform = lambda x: [imdb_vocab['<sos>']] + [imdb_vocab[token] for token in tokenizer(x)] + [imdb_vocab['<eos>']]\n",
    "label_transform = lambda x: 1 if x == 'pos' else 0"
   ]
  },
  {
   "cell_type": "code",
   "execution_count": 9,
   "id": "15c4e997",
   "metadata": {},
   "outputs": [
    {
     "name": "stdout",
     "output_type": "stream",
     "text": [
      "input to the text_transform: here is an example\n",
      "output of the text_transform: [1, 1019, 56, 202, 3736, 2]\n"
     ]
    }
   ],
   "source": [
    "print(\"input to the text_transform:\", \"here is an example\")\n",
    "print(\"output of the text_transform:\", text_transform(\"here is an example\"))"
   ]
  },
  {
   "cell_type": "code",
   "execution_count": 10,
   "id": "b11719f8",
   "metadata": {},
   "outputs": [],
   "source": [
    "def collate_batch(batch):\n",
    "    label_list, text_list = [], []\n",
    "    for _label, _text in batch:\n",
    "        label_list.append(label_transform(_label))\n",
    "        text_list.append(torch.tensor(text_transform(_text)))\n",
    "        \n",
    "    return torch.tensor(label_list), pad_sequence(text_list, padding_value=3.0)\n",
    "\n",
    "train_dataloader = DataLoader(list(train_iter), batch_size=8, shuffle=True, collate_fn=collate_batch)"
   ]
  },
  {
   "cell_type": "code",
   "execution_count": 21,
   "id": "3188650c",
   "metadata": {},
   "outputs": [
    {
     "data": {
      "text/plain": [
       "[tensor([   1, 4552,  345,  784, 1021,    2]),\n",
       " tensor([   1, 4552,  348,  286,    2]),\n",
       " tensor([   1, 4552, 1126,    2])]"
      ]
     },
     "execution_count": 21,
     "metadata": {},
     "output_type": "execute_result"
    }
   ],
   "source": [
    "text_lst = [torch.tensor(text_transform('sentence 1 more words')), torch.tensor(text_transform('sentence 2 less')),\n",
    "                                                                    torch.tensor(text_transform('sentence 3'))]\n",
    "text_lst #1x4~6"
   ]
  },
  {
   "cell_type": "code",
   "execution_count": 22,
   "id": "eb851fdb",
   "metadata": {},
   "outputs": [
    {
     "data": {
      "text/plain": [
       "torch.Size([6, 3])"
      ]
     },
     "execution_count": 22,
     "metadata": {},
     "output_type": "execute_result"
    }
   ],
   "source": [
    "pad_sequence(text_lst, padding_value=3.0).shape"
   ]
  },
  {
   "cell_type": "code",
   "execution_count": null,
   "id": "d403da42",
   "metadata": {},
   "outputs": [],
   "source": [
    "# text_list = []\n",
    "# for label, line in train_iter:\n",
    "#     text_list.append(torch.tensor(text_transform(line)))\n",
    "# text_list"
   ]
  },
  {
   "cell_type": "code",
   "execution_count": null,
   "id": "f15d183e",
   "metadata": {},
   "outputs": [],
   "source": [
    "train_list = list(train_iter)\n",
    "batch_size = 8\n",
    "\n",
    "def batch_sampler():\n",
    "    indices = [(idx, len(tokenizer(s[1]))) for idx, s in enumerate(train_list)]\n",
    "    random.shuffle(indices)\n",
    "    \n",
    "    pooled_indices = []\n",
    "    for i in range(0, len(indices), batch_size * 100):\n",
    "        pooled_indices.extend(sorted(indices[i:i+batch_size * 100], key=lambda x:x[1]))\n",
    "    \n",
    "    pooled_indices = [i[0] for i in pooled_indices]\n",
    "    \n",
    "    for i in range(0, len(pooled_indices), batch_size):\n",
    "        yield pooled_indices[i:i+batch_size]\n",
    "        \n",
    "bucket_dataloader = DataLoader(train_list, batch_sampler=batch_sampler(),\n",
    "                          collate_fn=collate_batch)"
   ]
  },
  {
   "cell_type": "code",
   "execution_count": null,
   "id": "8b071e71",
   "metadata": {},
   "outputs": [],
   "source": [
    "# next(iter(bucket_dataloader))"
   ]
  },
  {
   "cell_type": "code",
   "execution_count": null,
   "id": "76712d99",
   "metadata": {},
   "outputs": [],
   "source": []
  },
  {
   "cell_type": "code",
   "execution_count": null,
   "id": "93939f23",
   "metadata": {},
   "outputs": [],
   "source": [
    "batch_size = 8\n",
    "indices = list(range(1000))\n",
    "random.shuffle(indices)\n",
    "pooled_indices = []\n",
    "for i in range(0, len(indices), batch_size*25):\n",
    "    pooled_indices.extend(sorted(indices[i:i+batch_size*25]))\n",
    "    \n",
    "pooled_indices"
   ]
  },
  {
   "cell_type": "code",
   "execution_count": null,
   "id": "e322e76c",
   "metadata": {},
   "outputs": [],
   "source": [
    "def random_sampler():\n",
    "    for i in range(0, len(pooled_indices), batch_size):\n",
    "        yield pooled_indices[i:i+batch_size]\n",
    "        \n",
    "for i in random_sampler():\n",
    "    print(i)"
   ]
  }
 ],
 "metadata": {
  "kernelspec": {
   "display_name": "ML",
   "language": "python",
   "name": "ml"
  },
  "language_info": {
   "codemirror_mode": {
    "name": "ipython",
    "version": 3
   },
   "file_extension": ".py",
   "mimetype": "text/x-python",
   "name": "python",
   "nbconvert_exporter": "python",
   "pygments_lexer": "ipython3",
   "version": "3.10.6"
  }
 },
 "nbformat": 4,
 "nbformat_minor": 5
}
